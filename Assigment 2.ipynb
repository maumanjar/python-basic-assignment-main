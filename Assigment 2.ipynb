{
 "cells": [
  {
   "cell_type": "code",
   "execution_count": 1,
   "metadata": {},
   "outputs": [
    {
     "name": "stdout",
     "output_type": "stream",
     "text": [
      "True and False, denoted by capital letters T for True and F for False\n"
     ]
    }
   ],
   "source": [
    "#Q1\n",
    "print(\"True and False, denoted by capital letters T for True and F for False\")"
   ]
  },
  {
   "cell_type": "code",
   "execution_count": 2,
   "metadata": {},
   "outputs": [
    {
     "name": "stdout",
     "output_type": "stream",
     "text": [
      "three boolean operator is and,or,not\n"
     ]
    }
   ],
   "source": [
    "#Q2\n",
    "print(\"three boolean operator is and,or,not\")"
   ]
  },
  {
   "cell_type": "code",
   "execution_count": 6,
   "metadata": {},
   "outputs": [
    {
     "name": "stdout",
     "output_type": "stream",
     "text": [
      "True and True is True. True and False is False. False and True is False. False and False is False\n",
      "True or True is True. True or False is True. False or True is True. False or False is False\n",
      "not True is False. not False is True\n"
     ]
    }
   ],
   "source": [
    "#Q3\n",
    "#for and \n",
    "print(\"True and True is True. True and False is False. False and True is False. False and False is False\")\n",
    "#for or\n",
    "print(\"True or True is True. True or False is True. False or True is True. False or False is False\")\n",
    "#for not\n",
    "print(\"not True is False. not False is True\")"
   ]
  },
  {
   "cell_type": "code",
   "execution_count": 10,
   "metadata": {},
   "outputs": [
    {
     "data": {
      "text/plain": [
       "(False, False, True, False, False, True)"
      ]
     },
     "execution_count": 10,
     "metadata": {},
     "output_type": "execute_result"
    }
   ],
   "source": [
    "#Q4\n",
    "a=(5 > 4) and (3 == 5)\n",
    "b=not (5 > 4)\n",
    "c=(5 > 4) or (3 == 5)\n",
    "d=not ((5 > 4) or (3 == 5))\n",
    "e=(True and True) and (True == False)\n",
    "f=(not False) or (not True)\n",
    "(a,b,c,d,e,f)"
   ]
  },
  {
   "cell_type": "code",
   "execution_count": 11,
   "metadata": {},
   "outputs": [
    {
     "name": "stdout",
     "output_type": "stream",
     "text": [
      "six comparison operations is ==, !=, <, >, <=, >=\n"
     ]
    }
   ],
   "source": [
    "#Q5\n",
    "print(\"six comparison operations is ==, !=, <, >, <=, >=\")"
   ]
  },
  {
   "cell_type": "code",
   "execution_count": 13,
   "metadata": {},
   "outputs": [
    {
     "name": "stdout",
     "output_type": "stream",
     "text": [
      "== is the equal to operator that compares two values and evaluates to a Boolean\n"
     ]
    },
    {
     "data": {
      "text/plain": [
       "True"
      ]
     },
     "execution_count": 13,
     "metadata": {},
     "output_type": "execute_result"
    }
   ],
   "source": [
    "#Q6\n",
    "print(\"== is the equal to operator that compares two values and evaluates to a Boolean\")\n",
    "a=10\n",
    "b=10\n",
    "a==b"
   ]
  },
  {
   "cell_type": "code",
   "execution_count": 16,
   "metadata": {},
   "outputs": [
    {
     "name": "stdout",
     "output_type": "stream",
     "text": [
      "ham\n",
      "spam\n",
      "spam\n"
     ]
    }
   ],
   "source": [
    "#Q7\n",
    "spam = 0\n",
    "if spam == 10:\n",
    "    print('eggs')\n",
    "if spam > 5:\n",
    "    print('bacon')\n",
    "else:\n",
    "    print('ham')\n",
    "    print('spam')\n",
    "    print('spam')"
   ]
  },
  {
   "cell_type": "code",
   "execution_count": 19,
   "metadata": {},
   "outputs": [
    {
     "name": "stdout",
     "output_type": "stream",
     "text": [
      "input any number 0\n",
      "Greating!\n"
     ]
    }
   ],
   "source": [
    "#Q8\n",
    "spam=int(input(\"input any number \"))\n",
    "if spam==1:\n",
    "    print(\"Hello\")\n",
    "elif spam==2:\n",
    "    print(\"Howdy\")\n",
    "else:\n",
    "    print(\"Greating!\")"
   ]
  },
  {
   "cell_type": "code",
   "execution_count": 20,
   "metadata": {},
   "outputs": [
    {
     "name": "stdout",
     "output_type": "stream",
     "text": [
      "Press CTRL-C to stop a program stuck in an infinite loop.\n"
     ]
    }
   ],
   "source": [
    "#Q9\n",
    "print(\"Press CTRL-C to stop a program stuck in an infinite loop.\")"
   ]
  },
  {
   "cell_type": "code",
   "execution_count": 21,
   "metadata": {},
   "outputs": [
    {
     "name": "stdout",
     "output_type": "stream",
     "text": [
      "break statement stops the loop in which the statement is placed\n",
      "continue statement skips a single iteration in a loop\n"
     ]
    }
   ],
   "source": [
    "#Q10\n",
    "print(\"break statement stops the loop in which the statement is placed\")\n",
    "print(\"continue statement skips a single iteration in a loop\")"
   ]
  },
  {
   "cell_type": "code",
   "execution_count": 24,
   "metadata": {},
   "outputs": [
    {
     "name": "stdout",
     "output_type": "stream",
     "text": [
      "They all do the same thing. The range(10) call ranges from 0 up to (but not including) 10, range(0, 10) explicitly tells the loop to start at 0, and range(0, 10, 1) explicitly tells the loop to increase the variable by 1 on each iteration.\n"
     ]
    }
   ],
   "source": [
    "#Q11\n",
    "print(\"They all do the same thing. The range(10) call ranges from 0 up to (but not including) 10, range(0, 10) explicitly tells the loop to start at 0, and range(0, 10, 1) explicitly tells the loop to increase the variable by 1 on each iteration.\")"
   ]
  },
  {
   "cell_type": "code",
   "execution_count": 35,
   "metadata": {},
   "outputs": [
    {
     "name": "stdout",
     "output_type": "stream",
     "text": [
      "1\n",
      "2\n",
      "3\n",
      "4\n",
      "5\n",
      "6\n",
      "7\n",
      "8\n",
      "9\n",
      "10\n",
      "1\n",
      "2\n",
      "3\n",
      "4\n",
      "5\n",
      "6\n",
      "7\n",
      "8\n",
      "9\n",
      "10\n"
     ]
    }
   ],
   "source": [
    "#Q12\n",
    "#using for loop\n",
    "for i in range(1,11):\n",
    "    print(i)\n",
    "    \n",
    "# using while loop\n",
    "i=1\n",
    "while i<=10:\n",
    "    print(i)\n",
    "    i=i+1\n",
    "    \n"
   ]
  },
  {
   "cell_type": "code",
   "execution_count": 1,
   "metadata": {},
   "outputs": [
    {
     "name": "stdout",
     "output_type": "stream",
     "text": [
      "This function can be called with spam.bacon().\n"
     ]
    }
   ],
   "source": [
    "#Q13\n",
    "print(\"This function can be called with spam.bacon().\")"
   ]
  },
  {
   "cell_type": "code",
   "execution_count": null,
   "metadata": {},
   "outputs": [],
   "source": []
  }
 ],
 "metadata": {
  "kernelspec": {
   "display_name": "Python 3",
   "language": "python",
   "name": "python3"
  },
  "language_info": {
   "codemirror_mode": {
    "name": "ipython",
    "version": 3
   },
   "file_extension": ".py",
   "mimetype": "text/x-python",
   "name": "python",
   "nbconvert_exporter": "python",
   "pygments_lexer": "ipython3",
   "version": "3.8.5"
  }
 },
 "nbformat": 4,
 "nbformat_minor": 4
}
