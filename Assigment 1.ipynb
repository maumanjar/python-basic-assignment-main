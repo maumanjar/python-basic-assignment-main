{
 "cells": [
  {
   "cell_type": "code",
   "execution_count": 30,
   "metadata": {},
   "outputs": [
    {
     "data": {
      "text/plain": [
       "' *,/,+,- are mathematical operations  and hello , -87.8 , 6 , are values'"
      ]
     },
     "execution_count": 30,
     "metadata": {},
     "output_type": "execute_result"
    }
   ],
   "source": [
    "#Q1\n",
    "\"\"\" *,/,+,- are mathematical operations  and hello , -87.8 , 6 , are values\"\"\""
   ]
  },
  {
   "cell_type": "code",
   "execution_count": 5,
   "metadata": {},
   "outputs": [
    {
     "data": {
      "text/plain": [
       "'A Variable is a store of information, and a String is a type of information you would store in a Variable.\\nA String is usually words, enclosed with'"
      ]
     },
     "execution_count": 5,
     "metadata": {},
     "output_type": "execute_result"
    }
   ],
   "source": [
    "#Q2\n",
    "\"\"\"A Variable is a store of information, and a String is a type of information you would store in a Variable.\n",
    "A String is usually words, enclosed with\"\"\"\n"
   ]
  },
  {
   "cell_type": "code",
   "execution_count": 31,
   "metadata": {},
   "outputs": [
    {
     "name": "stdout",
     "output_type": "stream",
     "text": [
      " strings ,Integers, and complex number.\n"
     ]
    },
    {
     "data": {
      "text/plain": [
       "(str, int, complex)"
      ]
     },
     "execution_count": 31,
     "metadata": {},
     "output_type": "execute_result"
    }
   ],
   "source": [
    "#Q3\n",
    "print(\" strings ,Integers, and complex number.\")\n",
    "a=\"ram\"   # string \n",
    "b=6       # integer\n",
    "c=8+9j    # complex\n",
    "type(a),type(b),type(c)"
   ]
  },
  {
   "cell_type": "code",
   "execution_count": 32,
   "metadata": {},
   "outputs": [
    {
     "name": "stdout",
     "output_type": "stream",
     "text": [
      "An expression is a combination of values and operators. All expressions evaluate (that is, reduce) to a single value.\n"
     ]
    }
   ],
   "source": [
    "#Q4\n",
    "print(\"An expression is a combination of values and operators. All expressions evaluate (that is, reduce) to a single value.\")"
   ]
  },
  {
   "cell_type": "code",
   "execution_count": 17,
   "metadata": {},
   "outputs": [
    {
     "name": "stdout",
     "output_type": "stream",
     "text": [
      "An expression is a combination of values and functions that are combined and interpreted by the compiler to create a new value, as opposed to a “statement” which is just a standalone unit of execution and doesn't return anything\n"
     ]
    }
   ],
   "source": [
    "#Q5\n",
    "spam=10\n",
    "print(\"An expression is a combination of values and functions that are combined and interpreted by the compiler to create a new value, as opposed to a “statement” which is just a standalone unit of execution and doesn't return anything\")"
   ]
  },
  {
   "cell_type": "code",
   "execution_count": 35,
   "metadata": {},
   "outputs": [
    {
     "name": "stdout",
     "output_type": "stream",
     "text": [
      "The bacon variable is set to 20. The bacon + 1 expression does not reassign the value in bacon\n"
     ]
    }
   ],
   "source": [
    "#Q6\n",
    "bacon=22\n",
    "bacon+1\n",
    "print(\"The bacon variable is set to 20. The bacon + 1 expression does not reassign the value in bacon\")"
   ]
  },
  {
   "cell_type": "code",
   "execution_count": 34,
   "metadata": {},
   "outputs": [
    {
     "data": {
      "text/plain": [
       "('spamspamspam', 'spamspamspam')"
      ]
     },
     "execution_count": 34,
     "metadata": {},
     "output_type": "execute_result"
    }
   ],
   "source": [
    "#Q7\n",
    "a=\"spam\"+\"spamspam\"\n",
    "b=\"spam\"*3\n",
    "a,b"
   ]
  },
  {
   "cell_type": "code",
   "execution_count": 36,
   "metadata": {},
   "outputs": [
    {
     "name": "stdout",
     "output_type": "stream",
     "text": [
      "Variable names cannot begin with a number.\n"
     ]
    }
   ],
   "source": [
    "#Q8\n",
    "print(\"Variable names cannot begin with a number.\")"
   ]
  },
  {
   "cell_type": "code",
   "execution_count": 37,
   "metadata": {},
   "outputs": [
    {
     "name": "stdout",
     "output_type": "stream",
     "text": [
      "The int(), float(), and str() functions will evaluate to the integer, floating-point number, and string versions of the value passed to them\n"
     ]
    }
   ],
   "source": [
    "#Q9\n",
    "print(\"The int(), float(), and str() functions will evaluate to the integer, floating-point number, and string versions of the value passed to them\")"
   ]
  },
  {
   "cell_type": "code",
   "execution_count": 40,
   "metadata": {},
   "outputs": [
    {
     "data": {
      "text/plain": [
       "'I have eaten99burritos'"
      ]
     },
     "execution_count": 40,
     "metadata": {},
     "output_type": "execute_result"
    }
   ],
   "source": [
    "#Q10\n",
    "\"I have eaten\"+ str(99) +\"burritos\""
   ]
  },
  {
   "cell_type": "code",
   "execution_count": null,
   "metadata": {},
   "outputs": [],
   "source": []
  }
 ],
 "metadata": {
  "kernelspec": {
   "display_name": "Python 3",
   "language": "python",
   "name": "python3"
  },
  "language_info": {
   "codemirror_mode": {
    "name": "ipython",
    "version": 3
   },
   "file_extension": ".py",
   "mimetype": "text/x-python",
   "name": "python",
   "nbconvert_exporter": "python",
   "pygments_lexer": "ipython3",
   "version": "3.8.5"
  }
 },
 "nbformat": 4,
 "nbformat_minor": 4
}
