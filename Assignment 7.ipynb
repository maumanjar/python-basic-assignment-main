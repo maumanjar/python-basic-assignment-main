{
 "cells": [
  {
   "cell_type": "code",
   "execution_count": 1,
   "metadata": {},
   "outputs": [
    {
     "data": {
      "text/plain": [
       "'The re.compile() function returns Regex objects. '"
      ]
     },
     "execution_count": 1,
     "metadata": {},
     "output_type": "execute_result"
    }
   ],
   "source": [
    "#Q1 What is the name of the feature responsible for generating Regex objects?\n",
    "\"\"\"The re.compile() function returns Regex objects. \"\"\""
   ]
  },
  {
   "cell_type": "code",
   "execution_count": 2,
   "metadata": {},
   "outputs": [
    {
     "data": {
      "text/plain": [
       "'Raw strings are used so that backslashes do not have to be escaped.'"
      ]
     },
     "execution_count": 2,
     "metadata": {},
     "output_type": "execute_result"
    }
   ],
   "source": [
    "#Q2 Why do raw strings often appear in Regex objects?\n",
    "\"\"\"Raw strings are used so that backslashes do not have to be escaped.\"\"\""
   ]
  },
  {
   "cell_type": "code",
   "execution_count": 3,
   "metadata": {},
   "outputs": [
    {
     "data": {
      "text/plain": [
       "'The search() method returns Match objects.'"
      ]
     },
     "execution_count": 3,
     "metadata": {},
     "output_type": "execute_result"
    }
   ],
   "source": [
    "#Q3 What is the return value of the search() method?\n",
    "\"\"\"The search() method returns Match objects.\"\"\""
   ]
  },
  {
   "cell_type": "code",
   "execution_count": 1,
   "metadata": {},
   "outputs": [
    {
     "data": {
      "text/plain": [
       "'The group() method returns strings of the matched text.'"
      ]
     },
     "execution_count": 1,
     "metadata": {},
     "output_type": "execute_result"
    }
   ],
   "source": [
    "#Q4 From a Match item, how do you get the actual strings that match the pattern?\n",
    "\"\"\"The group() method returns strings of the matched text.\"\"\""
   ]
  },
  {
   "cell_type": "code",
   "execution_count": 9,
   "metadata": {},
   "outputs": [
    {
     "name": "stdout",
     "output_type": "stream",
     "text": [
      "Group 0 is the entire match, group 1 covers the first set of parentheses, and\n",
      " group 2 covers the second set of parentheses\n"
     ]
    }
   ],
   "source": [
    "#Q5 In the regex created from r'(\\d\\d\\d)-(\\d\\d\\d-\\d\\d\\d\\d)', what does group 0 cover? Group 1? Group 2?\n",
    "print(\"Group 0 is the entire match, group 1 covers the first set of parentheses, and\\n group 2 covers the second set of parentheses\")"
   ]
  },
  {
   "cell_type": "code",
   "execution_count": 10,
   "metadata": {},
   "outputs": [
    {
     "data": {
      "text/plain": [
       "'Periods and parentheses can be escaped with a backslash: \\\\., \\\\(, and \\\\).'"
      ]
     },
     "execution_count": 10,
     "metadata": {},
     "output_type": "execute_result"
    }
   ],
   "source": [
    "#Q6 In standard expression syntax, parentheses and intervals have distinct meanings. How can you tell\n",
    "# a regex that you want it to fit real parentheses and periods?\n",
    "\"\"\"Periods and parentheses can be escaped with a backslash: \\., \\(, and \\).\"\"\""
   ]
  },
  {
   "cell_type": "code",
   "execution_count": 11,
   "metadata": {},
   "outputs": [
    {
     "data": {
      "text/plain": [
       "'If the regex has no groups, a list of strings is returned. If the regex has groups, a list of tuples of strings is returned.'"
      ]
     },
     "execution_count": 11,
     "metadata": {},
     "output_type": "execute_result"
    }
   ],
   "source": [
    "#Q7 The findall() method returns a string list or a list of string tuples. What causes it to return one of\n",
    "# the two options?\n",
    "\"\"\"If the regex has no groups, a list of strings is returned. If the regex has groups, a list of tuples of strings is returned.\"\"\""
   ]
  },
  {
   "cell_type": "code",
   "execution_count": 1,
   "metadata": {},
   "outputs": [
    {
     "data": {
      "text/plain": [
       "'The | character signifies matching \"either, or\" between two groups.'"
      ]
     },
     "execution_count": 1,
     "metadata": {},
     "output_type": "execute_result"
    }
   ],
   "source": [
    "#Q8 In standard expressions, what does the | character mean?\n",
    "\"\"\"The | character signifies matching \"either, or\" between two groups.\"\"\""
   ]
  },
  {
   "cell_type": "code",
   "execution_count": 2,
   "metadata": {},
   "outputs": [
    {
     "data": {
      "text/plain": [
       "'character can either mean \"match zero or one of the preceding group\" or be used to signify nongreedy matching.'"
      ]
     },
     "execution_count": 2,
     "metadata": {},
     "output_type": "execute_result"
    }
   ],
   "source": [
    "#Q9 In regular expressions, what does the character stand for?\n",
    "\"\"\"character can either mean \"match zero or one of the preceding group\" or be used to signify nongreedy matching.\"\"\""
   ]
  },
  {
   "cell_type": "code",
   "execution_count": 3,
   "metadata": {},
   "outputs": [
    {
     "data": {
      "text/plain": [
       "'The + matches one or more. The * matches zero or more.'"
      ]
     },
     "execution_count": 3,
     "metadata": {},
     "output_type": "execute_result"
    }
   ],
   "source": [
    "#Q10 In regular expressions, what is the difference between the + and * characters?\n",
    "\"\"\"The + matches one or more. The * matches zero or more.\"\"\""
   ]
  },
  {
   "cell_type": "code",
   "execution_count": 4,
   "metadata": {},
   "outputs": [
    {
     "data": {
      "text/plain": [
       "'The {4} matches exactly four instances of the preceding group. The {4,5} matches between four and five instances.'"
      ]
     },
     "execution_count": 4,
     "metadata": {},
     "output_type": "execute_result"
    }
   ],
   "source": [
    "#Q11 What is the difference between {4} and {4,5} in regular expression?\n",
    "\"\"\"The {4} matches exactly four instances of the preceding group. The {4,5} matches between four and five instances.\"\"\""
   ]
  },
  {
   "cell_type": "code",
   "execution_count": 5,
   "metadata": {},
   "outputs": [
    {
     "data": {
      "text/plain": [
       "'The \\\\d, \\\\w, and \\\\s shorthand character classes match a single digit, word, or space character, respectively.'"
      ]
     },
     "execution_count": 5,
     "metadata": {},
     "output_type": "execute_result"
    }
   ],
   "source": [
    "#Q12 What do you mean by the \\d, \\w, and \\s shorthand character classes signify in regular expressions?\n",
    "\"\"\"The \\d, \\w, and \\s shorthand character classes match a single digit, word, or space character, respectively.\"\"\""
   ]
  },
  {
   "cell_type": "code",
   "execution_count": 6,
   "metadata": {},
   "outputs": [
    {
     "data": {
      "text/plain": [
       "'The \\\\D, \\\\W, and \\\\S shorthand character classes match a single character that is not a digit, word, or space character, respectively.'"
      ]
     },
     "execution_count": 6,
     "metadata": {},
     "output_type": "execute_result"
    }
   ],
   "source": [
    "#Q13 What do means by \\D, \\W, and \\S shorthand character classes signify in regular expressions?\n",
    "\"\"\"The \\D, \\W, and \\S shorthand character classes match a single character that is not a digit, word, or space character, respectively.\"\"\""
   ]
  },
  {
   "cell_type": "code",
   "execution_count": 7,
   "metadata": {},
   "outputs": [
    {
     "data": {
      "text/plain": [
       "'The .* performs a greedy match, and the .* performs a nongreedy match.'"
      ]
     },
     "execution_count": 7,
     "metadata": {},
     "output_type": "execute_result"
    }
   ],
   "source": [
    "#Q14 What is the difference between .*? and .*?\n",
    "\"\"\"The .* performs a greedy match, and the .* performs a nongreedy match.\"\"\""
   ]
  },
  {
   "cell_type": "code",
   "execution_count": 8,
   "metadata": {},
   "outputs": [
    {
     "data": {
      "text/plain": [
       "'Either [0-9a-z] or [a-z0-9]'"
      ]
     },
     "execution_count": 8,
     "metadata": {},
     "output_type": "execute_result"
    }
   ],
   "source": [
    "#Q15 What is the syntax for matching both numbers and lowercase letters with a character class?\n",
    "\"\"\"Either [0-9a-z] or [a-z0-9]\"\"\""
   ]
  },
  {
   "cell_type": "code",
   "execution_count": 1,
   "metadata": {},
   "outputs": [
    {
     "data": {
      "text/plain": [
       "'Passing re.I or re.IGNORECASE as the second argument to re.compile() will make the matching case insensitive.'"
      ]
     },
     "execution_count": 1,
     "metadata": {},
     "output_type": "execute_result"
    }
   ],
   "source": [
    "#Q16 What is the procedure for making a normal expression in regax case insensitive?\n",
    "\"\"\"Passing re.I or re.IGNORECASE as the second argument to re.compile() will make the matching case insensitive.\"\"\""
   ]
  },
  {
   "cell_type": "code",
   "execution_count": 2,
   "metadata": {},
   "outputs": [
    {
     "data": {
      "text/plain": [
       "'The . character normally matches any character except the newline character. If re.DOTALL is passed as the second argument to re.compile(), then the dot will also match newline characters'"
      ]
     },
     "execution_count": 2,
     "metadata": {},
     "output_type": "execute_result"
    }
   ],
   "source": [
    "#Q17 What does the . character normally match? What does it match if re.DOTALL is passed as 2nd argument in re.compile()?\n",
    "\"\"\"The . character normally matches any character except the newline character. If re.DOTALL is passed as the second argument to re.compile(), then the dot will also match newline characters\"\"\""
   ]
  },
  {
   "cell_type": "code",
   "execution_count": 3,
   "metadata": {},
   "outputs": [
    {
     "data": {
      "text/plain": [
       "\"'X drummers, X pipers, five rings, X hens'\""
      ]
     },
     "execution_count": 3,
     "metadata": {},
     "output_type": "execute_result"
    }
   ],
   "source": [
    "#Q18 If numRegex = re.compile(r'\\d+'), what will numRegex.sub('X', '12 drummers, 11 pipers, five rings, 3 hens') return?\n",
    "\"\"\"'X drummers, X pipers, five rings, X hens'\"\"\""
   ]
  },
  {
   "cell_type": "code",
   "execution_count": 4,
   "metadata": {},
   "outputs": [
    {
     "data": {
      "text/plain": [
       "'The re.VERBOSE argument allows you to add whitespace and comments to the string passed to re.compile().'"
      ]
     },
     "execution_count": 4,
     "metadata": {},
     "output_type": "execute_result"
    }
   ],
   "source": [
    "#Q19 What does passing re.VERBOSE as the 2nd argument to re.compile() allow to do?\n",
    "\"\"\"The re.VERBOSE argument allows you to add whitespace and comments to the string passed to re.compile().\"\"\""
   ]
  },
  {
   "cell_type": "code",
   "execution_count": 6,
   "metadata": {},
   "outputs": [
    {
     "data": {
      "text/plain": [
       "\"re.compile(r'^\\\\d{1,3}(,\\\\d{3})*$') will create this regex, but other regex strings can produce a similar regular expression.\""
      ]
     },
     "execution_count": 6,
     "metadata": {},
     "output_type": "execute_result"
    }
   ],
   "source": [
    "#Q20 \n",
    "\"\"\"re.compile(r'^\\d{1,3}(,\\d{3})*$') will create this regex, but other regex strings can produce a similar regular expression.\"\"\""
   ]
  },
  {
   "cell_type": "code",
   "execution_count": 9,
   "metadata": {},
   "outputs": [
    {
     "data": {
      "text/plain": [
       "\"re.compile(r'[A-Z][a-z]*\\\\sNakamoto')\""
      ]
     },
     "execution_count": 9,
     "metadata": {},
     "output_type": "execute_result"
    }
   ],
   "source": [
    "#Q21 \n",
    "\"\"\"re.compile(r'[A-Z][a-z]*\\sNakamoto')\"\"\""
   ]
  },
  {
   "cell_type": "code",
   "execution_count": 17,
   "metadata": {},
   "outputs": [
    {
     "data": {
      "text/plain": [
       "\"re.compile(r'(Alice|Bob|Carol)\\\\s(eats|pets|throws)\\\\s(apples|cats|baseballs)\\\\.', re.IGNORECASE)\""
      ]
     },
     "execution_count": 17,
     "metadata": {},
     "output_type": "execute_result"
    }
   ],
   "source": [
    "#Q22 \n",
    "\"\"\"re.compile(r'(Alice|Bob|Carol)\\s(eats|pets|throws)\\s(apples|cats|baseballs)\\.', re.IGNORECASE)\"\"\""
   ]
  }
 ],
 "metadata": {
  "kernelspec": {
   "display_name": "Python 3",
   "language": "python",
   "name": "python3"
  },
  "language_info": {
   "codemirror_mode": {
    "name": "ipython",
    "version": 3
   },
   "file_extension": ".py",
   "mimetype": "text/x-python",
   "name": "python",
   "nbconvert_exporter": "python",
   "pygments_lexer": "ipython3",
   "version": "3.8.5"
  }
 },
 "nbformat": 4,
 "nbformat_minor": 4
}
